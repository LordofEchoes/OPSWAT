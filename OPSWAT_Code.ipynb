{
 "cells": [
  {
   "cell_type": "code",
   "execution_count": 213,
   "id": "d82c6c89",
   "metadata": {},
   "outputs": [],
   "source": [
    "# fill out the API key as a string here\n",
    "API_key = \"348f5da85d9669c1f1ed427e95c6b9cd\""
   ]
  },
  {
   "cell_type": "code",
   "execution_count": 214,
   "id": "3520e77d",
   "metadata": {},
   "outputs": [],
   "source": [
    "import hashlib\n",
    "import requests\n",
    "import json\n",
    "import os\n",
    "\n",
    "#generate the hash for the file in SHA-256 based on the file contents\n",
    "\n",
    "# change the file here\n",
    "file = \"HuckleBerryFinn.txt\"\n",
    "# file = \"samplefile.txt\"\n",
    "\n",
    "hashfunction = hashlib.sha256()\n",
    "body = False"
   ]
  },
  {
   "cell_type": "code",
   "execution_count": 215,
   "id": "ccf13377",
   "metadata": {},
   "outputs": [],
   "source": [
    "# compute hash of body of file instead of the filename\n",
    "if body:\n",
    "    for line in open(file):\n",
    "        hashfunction.update(bytes(line,'utf-8'))\n",
    "# compute hash using filename\n",
    "elif not body:\n",
    "    line = file\n",
    "    hashfunction.update(bytes(line,'utf-8'))"
   ]
  },
  {
   "cell_type": "code",
   "execution_count": 216,
   "id": "4326a7f5",
   "metadata": {},
   "outputs": [
    {
     "name": "stdout",
     "output_type": "stream",
     "text": [
      "61ab906cb7e4cc50fd90a968d5f93ad8af93ac2faa9dab8a4924e5a17f5b7814\n"
     ]
    }
   ],
   "source": [
    "hash_number = hashfunction.hexdigest()\n",
    "print(hash_number)"
   ]
  },
  {
   "cell_type": "code",
   "execution_count": 217,
   "id": "696bd4e5",
   "metadata": {},
   "outputs": [],
   "source": [
    "# using API key, request GET of hash scan from api\n",
    "headers = {'apikey': API_key}\n",
    "hash_scan = requests.request(\"GET\", f\"https://api.metadefender.com/v4/hash/{hash_number}\", headers = headers)\n"
   ]
  },
  {
   "cell_type": "code",
   "execution_count": 218,
   "id": "fca4fd52",
   "metadata": {},
   "outputs": [],
   "source": [
    "# test/understanding code to see what hash_scan returns and how to use it\n",
    "# print(hash_scan)\n",
    "# scan_info = json.loads(hash_scan.text)\n",
    "# print(scan_info)\n",
    "# for k,v in scan_info[\"scan_results\"]['scan_details'].items():\n",
    "#     print(str(k) + \": \" + str(v))"
   ]
  },
  {
   "cell_type": "code",
   "execution_count": 219,
   "id": "1bbfd818",
   "metadata": {},
   "outputs": [],
   "source": [
    "# get file payload here\n",
    "script_dir = os.path.abspath(file)\n",
    "script_dir = f\"\\\"@{script_dir}\""
   ]
  },
  {
   "cell_type": "code",
   "execution_count": 248,
   "id": "28c327d3",
   "metadata": {},
   "outputs": [],
   "source": [
    "# Now if hash scan doesn't exist scan and upload the file \n",
    "\n",
    "if hash_scan.status_code == 404:\n",
    "#     change the content type of the file here\n",
    "    content_type = \"application/octet-stream\"\n",
    "    headers = {\"apikey\": API_key, \"Content-Type\" : content_type, \"filename\": f\"{file}\"}\n",
    "#     scan a file, returns a json object with data_id\n",
    "    payload = script_dir\n",
    "    file_scan = requests.post('https://api.metadefender.com/v4/file', headers = headers, data = payload)"
   ]
  },
  {
   "cell_type": "code",
   "execution_count": 249,
   "id": "16f0c7bd",
   "metadata": {},
   "outputs": [
    {
     "name": "stdout",
     "output_type": "stream",
     "text": [
      "{\"data_id\":\"bzIyMDkwNy0zY3hsRWtVU0FsYUZHbEZYdS1J\",\"status\":\"inqueue\",\"in_queue\":1,\"queue_priority\":\"normal\",\"sha1\":\"D781281ACEC5C725A77573FDCCFD4729BAE6BF32\",\"sha256\":\"35F905F5C37919F702722CF3144653E98B152613CD67F94B9DB28DA9786030A0\"}\n"
     ]
    }
   ],
   "source": [
    "# test/understanding code to see what file scan returns and how to use it\n",
    "if hash_scan.status_code == 404:\n",
    "    print(file_scan.text)"
   ]
  },
  {
   "cell_type": "code",
   "execution_count": 250,
   "id": "fc2f5b21",
   "metadata": {},
   "outputs": [],
   "source": [
    "if hash_scan.status_code == 404:\n",
    "    headers = {'apikey': API_key}\n",
    "    data_id = json.loads(file_scan.text)[\"data_id\"]\n",
    "    results = requests.get(f'https://api.metadefender.com/v4/file/{data_id}', headers = headers)\n",
    "#     repeatedly pull till progress is 100 or safety counter\n",
    "    stop = 0\n",
    "    while json.loads(results.text)[\"scan_results\"][\"progress_percentage\"] < 100 and stop < 10:\n",
    "        results = requests.get(f'https://api.metadefender.com/v4/file/{data_id}', headers = headers)\n",
    "        stop += 1"
   ]
  },
  {
   "cell_type": "code",
   "execution_count": 251,
   "id": "f67eeed6",
   "metadata": {},
   "outputs": [
    {
     "name": "stdout",
     "output_type": "stream",
     "text": [
      "{\"appinfo\":false,\"data_id\":\"bzIyMDkwNy0zY3hsRWtVU0FsYUZHbEZYdS1J\",\"scan_results\":{\"scan_details\":{},\"scan_all_result_i\":254,\"start_time\":\"2022-09-07T05:40:16.459Z\",\"total_time\":0,\"total_avs\":0,\"total_detected_avs\":0,\"progress_percentage\":0,\"scan_all_result_a\":\"In queue\"},\"file_info\":{\"file_size\":0,\"upload_timestamp\":\"\",\"md5\":\"\",\"sha1\":\"\",\"sha256\":\"\",\"file_type_category\":\"\",\"file_type_description\":\"\",\"file_type_extension\":\"\",\"display_name\":\"\"},\"share_file\":1,\"private_processing\":0,\"rest_version\":\"4\",\"additional_info\":[],\"votes\":{\"up\":0,\"down\":0},\"stored\":false}\n",
      "50\n"
     ]
    }
   ],
   "source": [
    "# check the results text values\n",
    "if hash_scan.status_code == 404:\n",
    "    print(results.text)"
   ]
  },
  {
   "cell_type": "code",
   "execution_count": 224,
   "id": "2dfcdabf",
   "metadata": {},
   "outputs": [
    {
     "name": "stdout",
     "output_type": "stream",
     "text": [
      "filename: HuckleBerryFinn.txt\n",
      "overall status: Clean\n",
      "\n"
     ]
    }
   ],
   "source": [
    "# previous step skipped if scan exists, display the results at the very end\n",
    "if hash_scan.status_code == 200:\n",
    "#     if hash_scan worked then store values into results\n",
    "    results = hash_scan\n",
    "#     load into a results dictionary\n",
    "results_dict = json.loads(results.text)\n",
    "threats = 0\n",
    "engine_text = \"\"\n",
    "# go through scan details and store printable values into string\n",
    "for k,v in results_dict[\"scan_results\"]['scan_details'].items():\n",
    "    engine_text += \"engine: \" + str(k) + \"\\n\"\n",
    "    if v[\"threat_found\"] == \"\":\n",
    "        engine_text += \"threat_found: Clean\\n\"\n",
    "    else:\n",
    "#         if there is a threat we want to store number of threats for overall status\n",
    "        engine_text += \"threat_found: \" + str(v[\"threat_found\"]) + \"\\n\"\n",
    "        threats += 1\n",
    "    engine_text += \"scan result: \" + str(v[\"scan_result_i\"]) + \"\\n\"\n",
    "    engine_text += \"def_time: \" + str(v[\"def_time\"]) + \"\\n\"\n",
    "    \n",
    "    \n",
    "print(\"filename: \" + str(file))\n",
    "# overall status is clean if zero threats\n",
    "if threats == 0:\n",
    "    print(\"overall status: \" + \"Clean\")\n",
    "else:\n",
    "    print(\"overall status: \" + \" Not Clean\")\n",
    "print(engine_text)"
   ]
  },
  {
   "cell_type": "code",
   "execution_count": 233,
   "id": "8e0a378a",
   "metadata": {},
   "outputs": [],
   "source": [
    "def run_program(API_key:str, file_name:str):\n",
    "    file = file_name\n",
    "    hashfunction = hashlib.sha256()\n",
    "    body = False\n",
    "    # compute hash of body of file instead of the filename\n",
    "    if body:\n",
    "        for line in open(file):\n",
    "            hashfunction.update(bytes(line,'utf-8'))\n",
    "    # compute hash using filename\n",
    "    elif not body:\n",
    "        line = file\n",
    "        hashfunction.update(bytes(line,'utf-8'))\n",
    "    hash_number = hashfunction.hexdigest()\n",
    "    headers = {'apikey': API_key}\n",
    "    hash_scan = requests.request(\"GET\", f\"https://api.metadefender.com/v4/hash/{hash_number}\", headers = headers)\n",
    "    if hash_scan !=  200 or hash_scan != 404:\n",
    "        print(\"hash_scan has returned \" + str(hash_scan) + \" which is not 200 or 404. Ending function\")\n",
    "        return\n",
    "    script_dir = os.path.abspath(file)\n",
    "    script_dir = f\"\\\"@{script_dir}\"\n",
    "    if hash_scan.status_code == 404:\n",
    "        content_type = \"application/octet-stream\"\n",
    "        headers = {\"apikey\": API_key, \"Content-Type\" :content_type}\n",
    "        payload = script_dir\n",
    "        file_scan = requests.post('https://api.metadefender.com/v4/file', headers = headers, data = payload)\n",
    "        if file_scan !=  200 or file_scan != 404:\n",
    "            print(\"file_scan has returned \" + str(file_scan) + \" which is not 200 or 404. Ending function\")\n",
    "            return\n",
    "        headers = {'apikey': API_key}\n",
    "        data_id = json.loads(file_scan.text)[\"data_id\"]\n",
    "        results = requests.get(f'https://api.metadefender.com/v4/file/{data_id}', headers = headers)\n",
    "        if results !=  200 or results != 404:\n",
    "            print(\"results has returned \" + str(results) + \" which is not 200 or 404. Ending function\")\n",
    "            return\n",
    "        stop = 0\n",
    "        while json.loads(results.text)[\"scan_results\"][\"progress_percentage\"] < 100 and stop < 10:\n",
    "            if results !=  200 or results != 404:\n",
    "                print(\"results has returned \" + str(results) + \" which is not 200 or 404. Ending function\")\n",
    "                return\n",
    "            results = requests.get(f'https://api.metadefender.com/v4/file/{data_id}', headers = headers)\n",
    "            stop += 1\n",
    "    if hash_scan.status_code == 200:\n",
    "        results = hash_scan\n",
    "    results_dict = json.loads(results.text)\n",
    "    threats = 0\n",
    "    engine_text = \"\"\n",
    "    for k,v in results_dict[\"scan_results\"]['scan_details'].items():\n",
    "        engine_text += \"engine: \" + str(k) + \"\\n\"\n",
    "        if v[\"threat_found\"] == \"\":\n",
    "            engine_text += \"threat_found: Clean\\n\"\n",
    "        else:\n",
    "            engine_text += \"threat_found: \" + str(v[\"threat_found\"]) + \"\\n\"\n",
    "            threats += 1\n",
    "        engine_text += \"scan result: \" + str(v[\"scan_result_i\"]) + \"\\n\"\n",
    "        engine_text += \"def_time: \" + str(v[\"def_time\"]) + \"\\n\"\n",
    "\n",
    "\n",
    "    print(\"filename: \" + str(file))\n",
    "    if threats == 0:\n",
    "        print(\"overall status: \" + \"Clean\")\n",
    "    else:\n",
    "        print(\"overall status: \" + \" Not Clean\")\n",
    "    print(engine_text)"
   ]
  },
  {
   "cell_type": "code",
   "execution_count": null,
   "id": "3281e47d",
   "metadata": {},
   "outputs": [],
   "source": []
  }
 ],
 "metadata": {
  "kernelspec": {
   "display_name": "Python 3",
   "language": "python",
   "name": "python3"
  },
  "language_info": {
   "codemirror_mode": {
    "name": "ipython",
    "version": 3
   },
   "file_extension": ".py",
   "mimetype": "text/x-python",
   "name": "python",
   "nbconvert_exporter": "python",
   "pygments_lexer": "ipython3",
   "version": "3.8.8"
  }
 },
 "nbformat": 4,
 "nbformat_minor": 5
}

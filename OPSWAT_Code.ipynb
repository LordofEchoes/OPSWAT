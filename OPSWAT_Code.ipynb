{
 "cells": [
  {
   "cell_type": "code",
   "execution_count": 198,
   "id": "d82c6c89",
   "metadata": {},
   "outputs": [],
   "source": [
    "# fill out the API key as a string here\n",
    "API_key = "
   ]
  },
  {
   "cell_type": "code",
   "execution_count": 199,
   "id": "3520e77d",
   "metadata": {},
   "outputs": [],
   "source": [
    "import hashlib\n",
    "import requests\n",
    "import json\n",
    "import os\n",
    "\n",
    "#generate the hash for the file in SHA-256 based on the file contents\n",
    "\n",
    "# change the file here\n",
    "# file = \"HuckleBerryFinn.txt\"\n",
    "file = \"samplefile.txt\"\n",
    "\n",
    "hashfunction = hashlib.sha256()\n",
    "body = False"
   ]
  },
  {
   "cell_type": "code",
   "execution_count": 200,
   "id": "27a20785",
   "metadata": {},
   "outputs": [],
   "source": [
    "# compute hash of body of file instead of the filename\n",
    "if body:\n",
    "    for line in open(file):\n",
    "        hashfunction.update(bytes(line,'utf-8'))\n",
    "# compute hash using filename\n",
    "elif not body:\n",
    "    line = file\n",
    "    hashfunction.update(bytes(line,'utf-8'))"
   ]
  },
  {
   "cell_type": "code",
   "execution_count": 201,
   "id": "bf5f75c1",
   "metadata": {},
   "outputs": [
    {
     "name": "stdout",
     "output_type": "stream",
     "text": [
      "ca96aad5e9cb3514fa59ef211112870f84be68e52310515c2872f3bfce083d80\n"
     ]
    }
   ],
   "source": [
    "hash_number = hashfunction.hexdigest()\n",
    "print(hash_number)"
   ]
  },
  {
   "cell_type": "code",
   "execution_count": 202,
   "id": "98276bdf",
   "metadata": {},
   "outputs": [],
   "source": [
    "# using API key, request GET of hash scan from api\n",
    "headers = {'apikey': API_key}\n",
    "hash_scan = requests.request(\"GET\", f\"https://api.metadefender.com/v4/hash/{hash_number}\", headers = headers)\n"
   ]
  },
  {
   "cell_type": "code",
   "execution_count": 203,
   "id": "e2b7e525",
   "metadata": {},
   "outputs": [],
   "source": [
    "# test/understanding code to see what hash_scan returns and how to use it\n",
    "# print(hash_scan)\n",
    "# scan_info = json.loads(hash_scan.text)\n",
    "# print(scan_info)\n",
    "# for k,v in scan_info[\"scan_results\"]['scan_details'].items():\n",
    "#     print(str(k) + \": \" + str(v))"
   ]
  },
  {
   "cell_type": "code",
   "execution_count": 204,
   "id": "3f7f34c4",
   "metadata": {},
   "outputs": [],
   "source": [
    "# get file payload here\n",
    "script_dir = os.path.abspath(file)\n",
    "script_dir = f\"\\\"@{script_dir}\""
   ]
  },
  {
   "cell_type": "code",
   "execution_count": 205,
   "id": "f090cafe",
   "metadata": {},
   "outputs": [],
   "source": [
    "# Now if hash scan doesn't exist scan and upload the file \n",
    "\n",
    "if hash_scan.status_code == 404:\n",
    "#     change the content type of the file here\n",
    "    content_type = \"application/octet-stream\"\n",
    "    headers = {\"apikey\": API_key, \"Content-Type\" :content_type}\n",
    "#     scan a file, returns a json object with data_id\n",
    "    payload = script_dir\n",
    "    file_scan = requests.post('https://api.metadefender.com/v4/file', headers = headers, data = payload)"
   ]
  },
  {
   "cell_type": "code",
   "execution_count": 206,
   "id": "2768399a",
   "metadata": {},
   "outputs": [],
   "source": [
    "# test/understanding code to see what file scan returns and how to use it\n",
    "# if hash_scan.status_code == 404:\n",
    "#     print(file_scan.text)"
   ]
  },
  {
   "cell_type": "code",
   "execution_count": 207,
   "id": "5d7e71b3",
   "metadata": {},
   "outputs": [],
   "source": [
    "if hash_scan.status_code == 404:\n",
    "    headers = {'apikey': API_key}\n",
    "    data_id = json.loads(file_scan.text)[\"data_id\"]\n",
    "    results = requests.get(f'https://api.metadefender.com/v4/file/{data_id}', headers = headers)"
   ]
  },
  {
   "cell_type": "code",
   "execution_count": 208,
   "id": "90203a46",
   "metadata": {},
   "outputs": [],
   "source": [
    "# check the results text values\n",
    "# if hash_scan.status_code == 404:\n",
    "#     print(results.text)"
   ]
  },
  {
   "cell_type": "code",
   "execution_count": 209,
   "id": "bf3c5882",
   "metadata": {},
   "outputs": [
    {
     "name": "stdout",
     "output_type": "stream",
     "text": [
      "filename: samplefile.txt\n",
      "overall status: Clean\n",
      "engine: AegisLab\n",
      "threat_found: Clean\n",
      "scan result: 0\n",
      "def_time: 2022-08-21T01:05:36.000Z\n",
      "engine: AhnLab\n",
      "threat_found: Clean\n",
      "scan result: 0\n",
      "def_time: 2022-08-23T00:00:00.000Z\n",
      "engine: Antiy\n",
      "threat_found: Clean\n",
      "scan result: 0\n",
      "def_time: 2022-08-22T15:30:00.000Z\n",
      "engine: Avira\n",
      "threat_found: Clean\n",
      "scan result: 0\n",
      "def_time: 2022-08-22T09:55:00.000Z\n",
      "engine: Bitdefender\n",
      "threat_found: Clean\n",
      "scan result: 0\n",
      "def_time: 2022-08-22T08:52:06.000Z\n",
      "engine: ClamAV\n",
      "threat_found: Clean\n",
      "scan result: 0\n",
      "def_time: 2022-08-22T09:19:51.000Z\n",
      "engine: CrowdStrike Falcon ML\n",
      "threat_found: Clean\n",
      "scan result: 23\n",
      "def_time: 2022-08-22T00:00:00.000Z\n",
      "engine: Cyren\n",
      "threat_found: Clean\n",
      "scan result: 0\n",
      "def_time: 2022-08-22T09:49:00.000Z\n",
      "engine: ESET\n",
      "threat_found: Clean\n",
      "scan result: 0\n",
      "def_time: 2022-08-22T08:40:58.000Z\n",
      "engine: Emsisoft\n",
      "threat_found: Clean\n",
      "scan result: 0\n",
      "def_time: 2022-08-22T03:35:00.000Z\n",
      "engine: HAURI\n",
      "threat_found: Clean\n",
      "scan result: 0\n",
      "def_time: 2022-08-21T22:57:36.000Z\n",
      "engine: Huorong\n",
      "threat_found: Clean\n",
      "scan result: 0\n",
      "def_time: 2022-08-22T10:20:37.000Z\n",
      "engine: IKARUS\n",
      "threat_found: Clean\n",
      "scan result: 0\n",
      "def_time: 2022-08-22T08:50:16.000Z\n",
      "engine: Jiangmin\n",
      "threat_found: Clean\n",
      "scan result: 0\n",
      "def_time: 2022-08-21T05:34:24.000Z\n",
      "engine: K7\n",
      "threat_found: Clean\n",
      "scan result: 0\n",
      "def_time: 2022-08-22T01:20:00.000Z\n",
      "engine: Kaspersky\n",
      "threat_found: Clean\n",
      "scan result: 0\n",
      "def_time: 2022-08-22T09:39:00.000Z\n",
      "engine: McAfee\n",
      "threat_found: Clean\n",
      "scan result: 0\n",
      "def_time: 2022-08-21T00:00:00.000Z\n",
      "engine: NANOAV\n",
      "threat_found: Clean\n",
      "scan result: 0\n",
      "def_time: 2022-08-22T04:26:00.000Z\n",
      "engine: Scrutiny\n",
      "threat_found: Clean\n",
      "scan result: 23\n",
      "def_time: 2022-08-22T15:30:00.000Z\n",
      "engine: Sophos\n",
      "threat_found: Clean\n",
      "scan result: 0\n",
      "def_time: 2022-08-22T00:46:24.000Z\n",
      "engine: TACHYON\n",
      "threat_found: Clean\n",
      "scan result: 0\n",
      "def_time: 2022-08-22T00:00:00.000Z\n",
      "engine: OnAV\n",
      "threat_found: Clean\n",
      "scan result: 23\n",
      "def_time: 2022-08-22T04:26:00.000Z\n",
      "engine: Webroot SMD\n",
      "threat_found: Clean\n",
      "scan result: 23\n",
      "def_time: 2022-08-21T21:00:16.000Z\n",
      "engine: Xvirus Anti-Malware\n",
      "threat_found: Clean\n",
      "scan result: 0\n",
      "def_time: 2022-08-21T19:35:03.000Z\n",
      "engine: Zillya!\n",
      "threat_found: Clean\n",
      "scan result: 0\n",
      "def_time: 2022-08-19T21:09:00.000Z\n",
      "engine: Vir.IT eXplorer\n",
      "threat_found: Clean\n",
      "scan result: 0\n",
      "def_time: 2022-08-19T12:45:00.000Z\n",
      "engine: Vir.IT ML\n",
      "threat_found: Clean\n",
      "scan result: 0\n",
      "def_time: 2022-08-19T12:45:00.000Z\n",
      "\n"
     ]
    }
   ],
   "source": [
    "# previous step skipped if scan exists, display the results at the very end\n",
    "if hash_scan.status_code == 200:\n",
    "#     if hash_scan worked then store values into results\n",
    "    results = hash_scan\n",
    "#     load into a results dictionary\n",
    "results_dict = json.loads(results.text)\n",
    "threats = 0\n",
    "engine_text = \"\"\n",
    "# go through scan details and store printable values into string\n",
    "for k,v in results_dict[\"scan_results\"]['scan_details'].items():\n",
    "    engine_text += \"engine: \" + str(k) + \"\\n\"\n",
    "    if v[\"threat_found\"] == \"\":\n",
    "        engine_text += \"threat_found: Clean\\n\"\n",
    "    else:\n",
    "#         if there is a threat we want to store number of threats for overall status\n",
    "        engine_text += \"threat_found: \" + str(v[\"threat_found\"]) + \"\\n\"\n",
    "        threats += 1\n",
    "    engine_text += \"scan result: \" + str(v[\"scan_result_i\"]) + \"\\n\"\n",
    "    engine_text += \"def_time: \" + str(v[\"def_time\"]) + \"\\n\"\n",
    "    \n",
    "    \n",
    "print(\"filename: \" + str(file))\n",
    "# overall status is clean if zero threats\n",
    "if threats == 0:\n",
    "    print(\"overall status: \" + \"Clean\")\n",
    "else:\n",
    "    print(\"overall status: \" + \" Not Clean\")\n",
    "print(engine_text)"
   ]
  },
  {
   "cell_type": "code",
   "execution_count": null,
   "id": "a2ae8999",
   "metadata": {},
   "outputs": [],
   "source": []
  }
 ],
 "metadata": {
  "kernelspec": {
   "display_name": "Python 3",
   "language": "python",
   "name": "python3"
  },
  "language_info": {
   "codemirror_mode": {
    "name": "ipython",
    "version": 3
   },
   "file_extension": ".py",
   "mimetype": "text/x-python",
   "name": "python",
   "nbconvert_exporter": "python",
   "pygments_lexer": "ipython3",
   "version": "3.8.8"
  }
 },
 "nbformat": 4,
 "nbformat_minor": 5
}
